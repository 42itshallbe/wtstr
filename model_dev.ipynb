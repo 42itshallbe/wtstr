{
 "cells": [
  {
   "cell_type": "code",
   "execution_count": null,
   "metadata": {},
   "outputs": [],
   "source": [
    "from lightgbm import LGBMRegressor\n",
    "from lightgbm import plot_importance as lgbm_plot_importance\n",
    "import matplotlib.pyplot as plt\n",
    "from matplotlib import gridspec\n",
    "import numpy as np\n",
    "import pandas as pd\n",
    "import pytz\n",
    "import seaborn as sns\n",
    "from sklearn.metrics import mean_absolute_error, root_mean_squared_error\n",
    "from sklearn.linear_model import LinearRegression"
   ]
  },
  {
   "cell_type": "code",
   "execution_count": null,
   "metadata": {},
   "outputs": [],
   "source": [
    "# for plotting\n",
    "sns.set_style(\"darkgrid\")\n",
    "\n",
    "df = pd.read_csv('SG.csv', sep=';', parse_dates = ['Time'])\n",
    "df['Time'] = pd.to_datetime(df['Time'], utc=True)\n",
    "\n",
    "df['summer_time'] = df['Time'].dt.tz_convert(\"Europe/Bratislava\").dt.hour - df['Time'].dt.hour - 1\n",
    "df['summer_time'] = df['summer_time'].apply(lambda x: 0 if x == -24  else (1 if x == -23 else x))  # -> only values 0/1\n",
    "\n",
    "df['Time'] = df['Time'].dt.tz_localize(None)\n",
    "df.set_index('Time', inplace=True)\n",
    "df.loc[:, 'date'] = df.index.date\n",
    "\n",
    "df['batt_power'] = df['Battery charging'] - df['Battery discharging']\n",
    "df['grid_power'] = df['Grid consumption'] - df['Grid backflow']\n",
    "\n",
    "df.loc[:, 'Consumption'] = df.loc[:, 'Consumption'].fillna((df.loc[:, 'Consumption'].shift(48) + df.loc[:, 'Consumption'].shift(-48)) / 2)\n",
    "df.loc[:, 'PV generation'] = df.loc[:, 'PV generation'].fillna((df.loc[:, 'PV generation'].shift(48) + df.loc[:, 'PV generation'].shift(-48)) / 2)\n",
    "df.loc[:, 'batt_power'] = df.loc[:, 'batt_power'].fillna((df.loc[:, 'batt_power'].shift(48) + df.loc[:, 'batt_power'].shift(-48)) / 2)\n",
    "df['grid_power'] = df['grid_power'].fillna((df['Consumption'] - df['PV generation'] + df['batt_power']))\n",
    "\n",
    "# df = df.interpolate(method='polynomial', order=3, limit_direction='both', axis=0)\n",
    "\n",
    "df['period_of_day'] = df.groupby(['date'])[df.columns.to_list()].cumcount()\n",
    "df['batt_power_cumsum'] = df['batt_power'].cumsum()\n",
    "\n",
    "# lepsie by bolo to len rozdelit na kladne a zaporne hodnoty...\n",
    "df.loc[:, 'Grid backflow'] = df.loc[:, 'Grid backflow'].fillna(0)\n",
    "df.loc[:, 'Grid consumption'] = df.loc[:, 'Grid consumption'].fillna(df.loc[:, 'grid_power'] - df.loc[:, 'Grid backflow']) \n",
    "\n",
    "# fillna day rows\n",
    "df.loc[df['period_of_day'] >= 10, 'Battery charging'] = df.loc[df['period_of_day'] >= 10, 'Battery charging'].fillna(0)\n",
    "df.loc[df['period_of_day'] >= 10, 'Battery discharging'] = df.loc[df['period_of_day'] >= 10, 'Battery discharging'].fillna(df['batt_power'] - df['Battery charging'])\n",
    "# fillna night rows\n",
    "df.loc[df['period_of_day'] < 10, 'Battery discharging'] = df.loc[df['period_of_day'] < 10, 'Battery discharging'].fillna(0)\n",
    "df.loc[df['period_of_day'] < 10, 'Battery charging'] = df.loc[df['period_of_day'] < 10, 'Battery charging'].fillna(df['batt_power'] - df['Battery discharging'])\n",
    "\n",
    "\n",
    "# look on the slice with filled NaN values\n",
    "df.loc[pd.to_datetime('2022-03-18 23:00:00'):pd.to_datetime('2022-03-19 02:00:00'), :]"
   ]
  },
  {
   "cell_type": "code",
   "execution_count": null,
   "metadata": {},
   "outputs": [],
   "source": [
    "df['batt_power_cumsum'].plot()\n",
    "# upwards trend - battery always draws more power to charge than it discharges due to efficiency/losses"
   ]
  },
  {
   "cell_type": "code",
   "execution_count": null,
   "metadata": {},
   "outputs": [],
   "source": [
    "# remove the trend \n",
    "num_range = np.arange(len(df['batt_power_cumsum'])).reshape(-1, 1)\n",
    "batt_power_cumsum = df['batt_power_cumsum']\n",
    "\n",
    "m = LinearRegression()\n",
    "m.fit(num_range, batt_power_cumsum)\n",
    "\n",
    "print(m.coef_)\n",
    "print(m.intercept_)\n",
    "\n",
    "plt.plot(num_range, batt_power_cumsum,color='g')\n",
    "plt.plot(num_range, m.predict(num_range),color='k')\n",
    "plt.plot(num_range, m.coef_ * num_range,color='r')\n",
    "\n",
    "plt.show()"
   ]
  },
  {
   "cell_type": "code",
   "execution_count": null,
   "metadata": {},
   "outputs": [],
   "source": [
    "print((df['batt_power_cumsum'] - (m.coef_ * num_range.reshape(-1))).min())\n",
    "print((df['batt_power_cumsum'] - (m.coef_ * num_range.reshape(-1))).max())\n",
    "\n",
    "(df['batt_power_cumsum'] - (m.coef_ * num_range.reshape(-1))).plot()"
   ]
  },
  {
   "cell_type": "markdown",
   "metadata": {},
   "source": [
    "# Feature engineering"
   ]
  },
  {
   "cell_type": "code",
   "execution_count": null,
   "metadata": {},
   "outputs": [],
   "source": [
    "df.columns"
   ]
  },
  {
   "cell_type": "code",
   "execution_count": null,
   "metadata": {},
   "outputs": [],
   "source": [
    "df['batt_p_cumsum_detrend'] = df['batt_power_cumsum'] - (m.coef_ * num_range.reshape(-1))   \n",
    "df['batt_p_cumsum_detrend_shift1'] = df['batt_p_cumsum_detrend'].shift(1) # available capacity to charge/discharge\n",
    "\n",
    "df['PV generation_shift1'] = df['PV generation'].shift(1)\n",
    "df['Consumption_shift1'] = df['Consumption'].shift(1)\n",
    "df['grid_power_shift1'] = df['grid_power'].shift(1)\n",
    "\n",
    "df['Consumption_shift48'] = df['Consumption'].shift(48)\n",
    "df['PV generation_shift48'] = df['PV generation'].shift(48)\n",
    "\n",
    "df = df.dropna()\n",
    "\n",
    "df"
   ]
  },
  {
   "cell_type": "markdown",
   "metadata": {},
   "source": [
    "# LightGBM regressor"
   ]
  },
  {
   "cell_type": "markdown",
   "metadata": {},
   "source": [
    "## Simple fit & predict on the whole dataset, no train-test split  \n",
    "## Mnual feature selection"
   ]
  },
  {
   "cell_type": "code",
   "execution_count": null,
   "metadata": {},
   "outputs": [],
   "source": [
    "list(df.columns)"
   ]
  },
  {
   "cell_type": "code",
   "execution_count": null,
   "metadata": {},
   "outputs": [],
   "source": [
    "# manual feature selection -> 3 input set for each target variable\n",
    "df_y_consumption = df[['Consumption']]\n",
    "df_X_consumption1 = df[['period_of_day', 'PV generation_shift1', 'Consumption_shift1', ]]\n",
    "df_X_consumption2 = df[['period_of_day', 'PV generation_shift1', 'Consumption_shift1', 'Consumption_shift48']]\n",
    "df_X_consumption3 = df[['period_of_day', 'PV generation_shift1', 'Consumption_shift1', 'Consumption_shift48', 'summer_time']]\n",
    "\n",
    "df_y_PV_gen = df[['PV generation']]\n",
    "df_X_PV_gen1 = df[['period_of_day', 'PV generation_shift1']]\n",
    "df_X_PV_gen2 = df[['period_of_day', 'PV generation_shift48']]\n",
    "df_X_PV_gen3 = df[['period_of_day', 'PV generation_shift1', 'PV generation_shift48']]\n",
    "\n",
    "df_y_batt_power = df[['batt_power']]\n",
    "df_X_batt_power1 = df[['period_of_day', 'PV generation_shift1', 'Consumption_shift1']]\n",
    "df_X_batt_power2 = df[['period_of_day', 'batt_p_cumsum_detrend_shift1', 'PV generation_shift1', 'Consumption_shift1']]\n",
    "df_X_batt_power3 = df[['period_of_day', 'batt_p_cumsum_detrend_shift1', 'PV generation_shift1', 'Consumption_shift1', 'summer_time']]\n",
    "\n",
    "df_y_grid_power = df[['grid_power']]\n",
    "df_X_grid_power1 = df[['period_of_day', 'grid_power_shift1', 'PV generation_shift1']]\n",
    "df_X_grid_power2 = df[['period_of_day', 'batt_p_cumsum_detrend_shift1', 'grid_power_shift1', 'PV generation_shift1']]\n",
    "df_X_grid_power3 = df[['period_of_day', 'batt_p_cumsum_detrend_shift1', 'grid_power_shift1', 'PV generation_shift1', 'summer_time']]\n",
    "\n",
    "list_X_y1 = [(df_X_consumption1, df_y_consumption), (df_X_PV_gen1, df_y_PV_gen), (df_X_batt_power1, df_y_batt_power), (df_X_grid_power1, df_y_grid_power)]\n",
    "list_X_y2 = [(df_X_consumption2, df_y_consumption), (df_X_PV_gen2, df_y_PV_gen), (df_X_batt_power2, df_y_batt_power), (df_X_grid_power2, df_y_grid_power)]\n",
    "list_X_y3 = [(df_X_consumption3, df_y_consumption), (df_X_PV_gen3, df_y_PV_gen), (df_X_batt_power3, df_y_batt_power), (df_X_grid_power3, df_y_grid_power)]"
   ]
  },
  {
   "cell_type": "code",
   "execution_count": null,
   "metadata": {},
   "outputs": [],
   "source": [
    "def lgbm_fit_predict_all4(list_X_y: list, df_source: pd.DataFrame) -> (pd.DataFrame, list):\n",
    "    \"\"\"\"\"\"\n",
    "    df_predictions = df_source[['period_of_day']].copy()\n",
    "    list_quantity_names = []\n",
    "    list_models = []\n",
    "    \n",
    "    for X, y in list_X_y:\n",
    "        lgbm_reg = LGBMRegressor(objective='regression')\n",
    "        lgbm_reg.fit(X, y)\n",
    "        prediction = lgbm_reg.predict(X)  \n",
    "        \n",
    "        df_predictions[f'{y.columns[0]}_true'] = y.values\n",
    "        df_predictions[f'{y.columns[0]}_predicted'] = prediction\n",
    "        df_predictions[f'{y.columns[0]}_residuals'] = np.subtract(y.values.reshape(-1), prediction)\n",
    "        \n",
    "        list_quantity_names.append(y.columns[0])\n",
    "        list_models.append(lgbm_reg)\n",
    "        \n",
    "    return df_predictions, list_quantity_names, list_models\n",
    "        \n",
    "        \n",
    "def plot_predictions(df_predictions: pd.DataFrame, list_quantity_names: list) -> None:\n",
    "    \"\"\"\"\"\"\n",
    "    plt.figure(figsize=(30, 20))\n",
    "    for q in range(len(list_quantity_names)):\n",
    "        q_true = f'{list_quantity_names[q]}_true'\n",
    "        q_predict = f'{list_quantity_names[q]}_predicted'        \n",
    "        \n",
    "        ax = plt.subplot(4, 1, q+1)\n",
    "        ax.plot(df_predictions.index, df_predictions.loc[:, q_true], label='true')\n",
    "        ax.plot(df_predictions.index, df_predictions.loc[:, q_predict], label='predicted')\n",
    "        ax.legend()\n",
    "        ax.title.set_text(\n",
    "            f'{list_quantity_names[q]}, '\n",
    "            f'mae = {np.round(mean_absolute_error(df_predictions.loc[:, q_true], df_predictions.loc[:, q_predict]), 2)}, '\n",
    "            f'rmse = {np.round(root_mean_squared_error(df_predictions.loc[:, q_true], df_predictions.loc[:, q_predict]), 2)}'\n",
    "            )\n",
    "    plt.show()\n",
    "\n",
    "\n",
    "def plot_residuals_pt_feat_imp(df_predictions: pd.DataFrame, list_quantity_names: list, list_models: list) -> None:\n",
    "    \"\"\"\"\"\"\n",
    "    df_predict = df_predictions.copy()\n",
    "    df_predict['date'] = df_predict.index.date\n",
    "    \n",
    "    fig = plt.figure(figsize=(30, 20))\n",
    "    gs = gridspec.GridSpec(4, 3, width_ratios=[3, 1, 1]) \n",
    "    for i in range(0, 3*len(list_quantity_names), 3):\n",
    "        q=int(i/3)\n",
    "        q_true = f'{list_quantity_names[q]}_true'\n",
    "        q_predict = f'{list_quantity_names[q]}_predicted'  \n",
    "        q_res = f'{list_quantity_names[q]}_residuals'\n",
    "        \n",
    "        # another way of creating stacked array for boxplot\n",
    "        df_predict_pivot = df_predict.loc[:, ['period_of_day', q_res, 'date']].pivot_table(index='date', columns='period_of_day')\n",
    "        stack_array = np.array(df_predict_pivot.values)\n",
    "        # boxplot does not accept columns beginning or ending with zeros -> exclude incomplete days if present at the beginning or end\n",
    "        if np.any(np.isnan(stack_array[0, :])):\n",
    "            stack_array = stack_array[1:, :]\n",
    "        if np.any(np.isnan(stack_array[-1, :])):\n",
    "            stack_array = stack_array[:-1, :]\n",
    "        \n",
    "        ax1 = fig.add_subplot(gs[i]) # fig.add_subplot(4, 3, i+1)\n",
    "        ax1.boxplot(stack_array)\n",
    "        ax1.set_xlabel(\"day period\")\n",
    "        ax1.set_ylabel(\"residuals\")\n",
    "        ax1.set_title(f\"Residuals per period of day for: {list_quantity_names[q]}\")\n",
    "        \n",
    "        ax2 = fig.add_subplot(gs[i+1]) # fig.add_subplot(4, 3, i+2)\n",
    "        ax2.scatter(df_predictions.loc[:, q_true], df_predictions.loc[:, q_predict], label=\"data\")\n",
    "        line45 = np.linspace(min(df_predictions.loc[:, q_true].values), max(df_predictions.loc[:, q_true].values))\n",
    "        ax2.plot(line45, line45, color='red', linestyle='--', lw=3, label='ideal line')\n",
    "        ax2.set_xlabel(\"True\")\n",
    "        ax2.set_ylabel(\"Predicted\")\n",
    "        ax2.legend()\n",
    "        \n",
    "        ax3 = fig.add_subplot(gs[i+2]) # fig.add_subplot(4, 3, i+3, gs[q])\n",
    "        lgbm_plot_importance(list_models[q], ax=ax3, title=f\"{list_quantity_names[q]}\")\n",
    "\n",
    "    plt.subplots_adjust(wspace=0.2)\n",
    "    plt.show() "
   ]
  },
  {
   "cell_type": "markdown",
   "metadata": {},
   "source": [
    "#### Feature set 1"
   ]
  },
  {
   "cell_type": "code",
   "execution_count": null,
   "metadata": {},
   "outputs": [],
   "source": [
    "df_predict1, list_q_n1, list_regr_models1 = lgbm_fit_predict_all4(list_X_y1, df)\n",
    "plot_predictions(df_predict1, list_q_n1)"
   ]
  },
  {
   "cell_type": "code",
   "execution_count": null,
   "metadata": {},
   "outputs": [],
   "source": [
    "plot_residuals_pt_feat_imp(df_predict1, list_q_n1, list_regr_models1)"
   ]
  },
  {
   "cell_type": "markdown",
   "metadata": {},
   "source": [
    "#### Feature set 2"
   ]
  },
  {
   "cell_type": "code",
   "execution_count": null,
   "metadata": {},
   "outputs": [],
   "source": [
    "df_predict2, list_q_n2, list_regr_models2 = lgbm_fit_predict_all4(list_X_y2, df)\n",
    "plot_predictions(df_predict2, list_q_n2)"
   ]
  },
  {
   "cell_type": "code",
   "execution_count": null,
   "metadata": {},
   "outputs": [],
   "source": [
    "plot_residuals_pt_feat_imp(df_predict2, list_q_n2, list_regr_models2)"
   ]
  },
  {
   "cell_type": "markdown",
   "metadata": {},
   "source": [
    "#### Feature set 3"
   ]
  },
  {
   "cell_type": "code",
   "execution_count": null,
   "metadata": {},
   "outputs": [],
   "source": [
    "df_predict3, list_q_n3, list_regr_models3 = lgbm_fit_predict_all4(list_X_y3, df)\n",
    "plot_predictions(df_predict3, list_q_n3)"
   ]
  },
  {
   "cell_type": "code",
   "execution_count": null,
   "metadata": {},
   "outputs": [],
   "source": [
    "plot_residuals_pt_feat_imp(df_predict3, list_q_n3, list_regr_models3)"
   ]
  },
  {
   "cell_type": "markdown",
   "metadata": {},
   "source": [
    "- bool variable summer_time does not add much information to the model"
   ]
  }
 ],
 "metadata": {
  "kernelspec": {
   "display_name": "thetask",
   "language": "python",
   "name": "python3"
  },
  "language_info": {
   "codemirror_mode": {
    "name": "ipython",
    "version": 3
   },
   "file_extension": ".py",
   "mimetype": "text/x-python",
   "name": "python",
   "nbconvert_exporter": "python",
   "pygments_lexer": "ipython3",
   "version": "3.11.9"
  },
  "orig_nbformat": 4
 },
 "nbformat": 4,
 "nbformat_minor": 2
}
