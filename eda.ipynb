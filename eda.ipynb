{
 "cells": [
  {
   "cell_type": "code",
   "execution_count": null,
   "metadata": {},
   "outputs": [],
   "source": [
    "#import datetime as dt\n",
    "import pandas as pd\n",
    "import matplotlib.pyplot as plt\n",
    "import numpy as np\n",
    "import seaborn as sns\n"
   ]
  },
  {
   "cell_type": "code",
   "execution_count": null,
   "metadata": {},
   "outputs": [],
   "source": [
    "df = pd.read_csv('SG.csv', sep=';', parse_dates = ['Time'])\n",
    "df['Time'] = pd.to_datetime(df['Time'], utc=True)\n",
    "df['Time'] = df['Time'].dt.tz_localize(None)\n",
    "print(df.info())\n",
    "df.set_index('Time', inplace=True)\n",
    "\n",
    "df"
   ]
  },
  {
   "cell_type": "code",
   "execution_count": null,
   "metadata": {},
   "outputs": [],
   "source": [
    "df.describe()"
   ]
  },
  {
   "cell_type": "code",
   "execution_count": null,
   "metadata": {},
   "outputs": [],
   "source": [
    "df.isna().sum()"
   ]
  },
  {
   "cell_type": "markdown",
   "metadata": {},
   "source": [
    "- no grid backflow occurred - it could be dropped\n",
    "- However, we could think of such a power balance equation:  \n",
    "PV generation + Grid consumption + Battery discharging = Consumption + Battery charging + Grid backflow\n",
    "  \n",
    "- It can be simplified using (not taking losses into account for the sake of simplicity):  \n",
    "Grid power = Grid consumption - Grid backflow  \n",
    "Battery power = Battery charging - Battery discharging  \n",
    " - where ... power variables are Real numbers instead of R+  \n",
    "  \n",
    "- We get:  \n",
    "PV generation + Grid power = Consumption + Battery power  \n",
    "- we could extract Grid backflow even if it does not occur in the 'training' data (this system is probably not going to have Grid backflow anytime soon..)\n",
    "- could be used for feature engineering and/or directly for modelling"
   ]
  },
  {
   "cell_type": "code",
   "execution_count": null,
   "metadata": {},
   "outputs": [],
   "source": [
    "# just here for eda\n",
    "df.drop(['Grid backflow'], axis=1, inplace=True)"
   ]
  },
  {
   "cell_type": "code",
   "execution_count": null,
   "metadata": {},
   "outputs": [],
   "source": [
    "df[df['Consumption'].isna()]"
   ]
  },
  {
   "cell_type": "code",
   "execution_count": null,
   "metadata": {},
   "outputs": [],
   "source": [
    "df.loc[pd.to_datetime('2022-03-17 23:00:00'):pd.to_datetime('2022-03-18 02:00:00'), :]"
   ]
  },
  {
   "cell_type": "code",
   "execution_count": null,
   "metadata": {},
   "outputs": [],
   "source": [
    "df.loc[pd.to_datetime('2022-03-19 23:00:00'):pd.to_datetime('2022-03-20 02:00:00'), :]"
   ]
  },
  {
   "cell_type": "markdown",
   "metadata": {},
   "source": [
    "- checked the approximate time frame of the missing data the day before and day after  \n",
    "  -> battery charges after midnight\n",
    "     - it might be caused by the optimization algorithm, selling everything at the end of the horizon to maximize profit/minimize loss \n",
    "     - check overall statistics if this is standard\n",
    "     - check the balance between charging/discharging within 24h periods    \n",
    "      \n",
    "- decide how to fill NaNs later (overall strategy; not just this nb)"
   ]
  },
  {
   "cell_type": "code",
   "execution_count": null,
   "metadata": {},
   "outputs": [],
   "source": [
    "df.loc[:, 'dayofweek'] = df.index.day_of_week\n",
    "df.loc[:, 'date'] = df.index.date\n",
    "\n",
    "df"
   ]
  },
  {
   "cell_type": "code",
   "execution_count": null,
   "metadata": {},
   "outputs": [],
   "source": [
    "df.columns.to_list()"
   ]
  },
  {
   "cell_type": "code",
   "execution_count": null,
   "metadata": {},
   "outputs": [],
   "source": [
    "# check missing rows\n",
    "date_counts = df.groupby('date').count()['Consumption']\n",
    "print(date_counts[date_counts != 48])\n",
    "print(\"\")\n",
    "\n",
    "print(\"length of date_counts          : \", len(date_counts))\n",
    "print(\"should be length of date counts: \", len(pd.date_range(start=date_counts.index[0], end=date_counts.index[-1], freq='D')))\n",
    "\n",
    "# - no missing rows - from now on, I will assume that incoming csv files are not gonna have 'holes' in time series"
   ]
  },
  {
   "cell_type": "code",
   "execution_count": null,
   "metadata": {},
   "outputs": [],
   "source": [
    "def stack_data(df: pd.DataFrame, window_length: int) -> np.array:\n",
    "    stacked_data = []\n",
    "    current_stack = []\n",
    "    timestamps = df.index\n",
    "\n",
    "    for i in range(len(timestamps)):\n",
    "        current_stack.append(df.iloc[i].values)\n",
    "        \n",
    "        if len(current_stack) == window_length:\n",
    "            stacked_data.append(np.array(current_stack))\n",
    "            current_stack = []\n",
    "\n",
    "    stacked_data = np.array(stacked_data)\n",
    "\n",
    "    return stacked_data"
   ]
  },
  {
   "cell_type": "code",
   "execution_count": null,
   "metadata": {},
   "outputs": [],
   "source": [
    "np_stacked_daily_data = stack_data(\n",
    "    df.loc[pd.to_datetime('2022-03-06 00:00:00'):pd.to_datetime('2022-04-04 00:00:00'), :], \n",
    "    48\n",
    "    )\n",
    "\n",
    "print(\"shape of np_daily_data: \", np_stacked_daily_data.shape)\n",
    "print(\"first day: \", np_stacked_daily_data[0, 0, -1])\n",
    "print(\"last day : \", np_stacked_daily_data[-1, -1, -1])"
   ]
  },
  {
   "cell_type": "markdown",
   "metadata": {},
   "source": [
    "# Visualization"
   ]
  },
  {
   "cell_type": "code",
   "execution_count": null,
   "metadata": {},
   "outputs": [],
   "source": [
    "sns.pairplot(df.drop(['dayofweek', 'date'], axis=1), hue=\"PV generation\", palette='viridis')"
   ]
  },
  {
   "cell_type": "code",
   "execution_count": null,
   "metadata": {},
   "outputs": [],
   "source": [
    "sns.pairplot(df.drop(['dayofweek'], axis=1), hue=\"date\", palette='viridis')"
   ]
  },
  {
   "cell_type": "code",
   "execution_count": null,
   "metadata": {},
   "outputs": [],
   "source": [
    "sns.pairplot(df.drop(['date'], axis=1), hue=\"dayofweek\", palette='viridis')"
   ]
  },
  {
   "cell_type": "code",
   "execution_count": null,
   "metadata": {},
   "outputs": [],
   "source": [
    "plt.figure(figsize=(15, 12))\n",
    "linestyles = ['--', '-.', ':']\n",
    "\n",
    "for q in range(5):\n",
    "    c = 0\n",
    "    ax = plt.subplot(5, 1, q+1)\n",
    "    \n",
    "    for d in range(np_stacked_daily_data.shape[0]):\n",
    "        if c < 10:\n",
    "            ln = linestyles[0]\n",
    "        elif c < 20:\n",
    "            ln = linestyles[1]\n",
    "        else:\n",
    "            ln = linestyles[2]\n",
    "        \n",
    "        ax.plot(np.arange(np_stacked_daily_data.shape[1]), np_stacked_daily_data[d, :, q], linestyle=ln, label=f'{np_stacked_daily_data[d, 0, -1]}')\n",
    "        ax.title.set_text(f'{df.columns[q]}')\n",
    "        ax.set_xticks([*range(0, 50, 2)])\n",
    "        ax.set_xticklabels([*range(0, 25, 1)])\n",
    "        ax.grid()\n",
    "        c+=1\n",
    "\n",
    "plt.subplots_adjust(hspace=0.32)\n",
    "plt.legend(bbox_to_anchor=(1.1, 6.3))\n",
    "plt.show()"
   ]
  },
  {
   "cell_type": "code",
   "execution_count": null,
   "metadata": {},
   "outputs": [],
   "source": [
    "# look closer at '2022-03-27', due to battery charging around 14:00 - 15:00\n",
    "\n",
    "sel_idx = np.where(np_stacked_daily_data[:, 0, -1] == pd.to_datetime('2022-03-27').date())[0][0]\n",
    "\n",
    "plt.figure(figsize=(15, 12))\n",
    "for q in range(5):\n",
    "    ax = plt.subplot(5, 1, q+1)\n",
    "    ax.plot(np.arange(np_stacked_daily_data.shape[1]), np_stacked_daily_data[sel_idx, :, q], label=f'{np_stacked_daily_data[sel_idx, 0, -1]}')\n",
    "    ax.title.set_text(f'{df.columns[q]}')\n",
    "    ax.set_xticks([*range(0, 50, 2)])\n",
    "    ax.set_xticklabels([*range(0, 25, 1)])\n",
    "    ax.grid()\n",
    "\n",
    "plt.subplots_adjust(hspace=0.32)\n",
    "plt.legend(bbox_to_anchor=(1.1, 6.3))\n",
    "plt.show()"
   ]
  },
  {
   "cell_type": "markdown",
   "metadata": {},
   "source": [
    "- Battery charging and discharging overlap - these actions probably occured sequentially, and the shape of plots is caused by the relatively coarse granularity of timestamps "
   ]
  },
  {
   "cell_type": "code",
   "execution_count": null,
   "metadata": {},
   "outputs": [],
   "source": [
    "plt.figure(figsize=(15, 12))\n",
    "for q in range(5):\n",
    "    ax = plt.subplot(5, 1, q+1)\n",
    "    ax.boxplot(np_stacked_daily_data[:, :, q])\n",
    "    ax.title.set_text(f'{df.columns[q]}')\n",
    "    ax.set_xticks([*range(0, 50, 2)])\n",
    "    ax.set_xticklabels([*range(0, 25, 1)])\n",
    "    ax.yaxis.grid()\n",
    "\n",
    "plt.subplots_adjust(hspace=0.32)\n",
    "plt.show()"
   ]
  },
  {
   "cell_type": "markdown",
   "metadata": {},
   "source": [
    "- Consumption and Grid Consumption show increase min-max spread in the mornings and afternoons - because of UTC timestamp; human activity depends on local time\n",
    "- If local time (CET/CEST) would be still used, such effects would be observable on PV generation\n",
    "- keep using UTC + try bool variable like 'summer_time' using .dt.utcoffset()"
   ]
  },
  {
   "cell_type": "code",
   "execution_count": null,
   "metadata": {},
   "outputs": [],
   "source": [
    "fig, ((ax1, ax2), (ax3, ax4)) = plt.subplots(2, 2, sharex=True, sharey=True, figsize=(15, 10))\n",
    "\n",
    "for d in range(np_stacked_daily_data.shape[0]):\n",
    "    if np_stacked_daily_data[d, 10, -2] in [*range(5)]:\n",
    "        ax1.scatter(np_stacked_daily_data[d, :, 2], np_stacked_daily_data[d, :, 0], color='b')\n",
    "        ax3.scatter(np_stacked_daily_data[d, :, 2], np_stacked_daily_data[d, :, 1], color='orange')\n",
    "    else:\n",
    "        ax2.scatter(np_stacked_daily_data[d, :, 2], np_stacked_daily_data[d, :, 0], color='g')\n",
    "        ax4.scatter(np_stacked_daily_data[d, :, 2], np_stacked_daily_data[d, :, 1], color='r')        \n",
    "\n",
    "ax1.title.set_text(\"work days\")\n",
    "ax1.set_ylabel(\"Consumption\")\n",
    "ax1.set_zorder(1)\n",
    "ax1.grid()\n",
    "\n",
    "ax3.set_xlabel(\"PV generation\")\n",
    "ax3.set_ylabel(\"Grid Consumption\")\n",
    "ax3.grid()\n",
    "\n",
    "ax2.title.set_text(\"weekends\")\n",
    "ax2.set_ylabel(\"Consumption\")\n",
    "ax2.grid()\n",
    "\n",
    "ax4.set_xlabel(\"PV generation\")\n",
    "ax4.set_ylabel(\"Grid Consumption\")\n",
    "ax4.grid()\n",
    "\n",
    "plt.subplots_adjust(hspace=0.02, wspace=0.17)\n",
    "plt.show()"
   ]
  },
  {
   "cell_type": "code",
   "execution_count": null,
   "metadata": {},
   "outputs": [],
   "source": [
    "# overall correlation matrix\n",
    "df_corr = df.iloc[:, :5].corr()\n",
    "\n",
    "# heatmap\n",
    "plt.figure(figsize = (5,4))\n",
    "sns.heatmap(df_corr, \n",
    "        xticklabels=df_corr.columns,\n",
    "        yticklabels=df_corr.columns, \n",
    "        center=0)\n",
    "plt.title('Correlation matrix')\n",
    "plt.show()"
   ]
  },
  {
   "cell_type": "code",
   "execution_count": null,
   "metadata": {},
   "outputs": [],
   "source": []
  }
 ],
 "metadata": {
  "kernelspec": {
   "display_name": "algot_2-CjPPFdb1",
   "language": "python",
   "name": "python3"
  },
  "language_info": {
   "codemirror_mode": {
    "name": "ipython",
    "version": 3
   },
   "file_extension": ".py",
   "mimetype": "text/x-python",
   "name": "python",
   "nbconvert_exporter": "python",
   "pygments_lexer": "ipython3",
   "version": "3.11.9"
  },
  "orig_nbformat": 4
 },
 "nbformat": 4,
 "nbformat_minor": 2
}
